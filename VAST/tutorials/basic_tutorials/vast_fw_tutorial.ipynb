{
 "cells": [
  {
   "attachments": {},
   "cell_type": "markdown",
   "metadata": {},
   "source": [
    "# Fixed-wake rectangular wing simulation"
   ]
  },
  {
   "attachments": {},
   "cell_type": "markdown",
   "metadata": {},
   "source": [
    "## 1. import required packages"
   ]
  },
  {
   "cell_type": "code",
   "execution_count": 3,
   "metadata": {},
   "outputs": [],
   "source": [
    "'''Example 7 : vnv with BYU VortexLattice'''\n",
    "import csdl\n",
    "import numpy as np\n",
    "from VAST.core.fluid_problem import FluidProblem\n",
    "from VAST.utils.generate_mesh import *\n",
    "from VAST.core.submodels.input_submodels.create_input_module import CreateACSatesModule\n",
    "from VAST.core.vlm_llt.vlm_solver import VLMSolverModel\n",
    "from python_csdl_backend import Simulator\n",
    "from VAST.core.vlm_llt.vlm_dynamic_old.VLM_prescribed_wake_solver import UVLMSolver\n",
    "\n",
    "\n",
    "import cProfile\n",
    "profiler = cProfile.Profile()"
   ]
  },
  {
   "cell_type": "code",
   "execution_count": 4,
   "metadata": {},
   "outputs": [
    {
     "ename": "FileNotFoundError",
     "evalue": "vnv_meshes/byu_vortex_lattice/x_dynamic.txt not found.",
     "output_type": "error",
     "traceback": [
      "\u001b[0;31m---------------------------------------------------------------------------\u001b[0m",
      "\u001b[0;31mFileNotFoundError\u001b[0m                         Traceback (most recent call last)",
      "Cell \u001b[0;32mIn[4], line 91\u001b[0m\n\u001b[1;32m     88\u001b[0m     \u001b[39m#  # add simulator\u001b[39;00m\n\u001b[1;32m     89\u001b[0m     \u001b[39mreturn\u001b[39;00m sim\n\u001b[0;32m---> 91\u001b[0m sim \u001b[39m=\u001b[39m ex8_generate_model()\n\u001b[1;32m     94\u001b[0m sim\u001b[39m.\u001b[39mrun()\n",
      "Cell \u001b[0;32mIn[4], line 35\u001b[0m, in \u001b[0;36mex8_generate_model\u001b[0;34m()\u001b[0m\n\u001b[1;32m     21\u001b[0m states_dict \u001b[39m=\u001b[39m {\n\u001b[1;32m     22\u001b[0m     \u001b[39m'\u001b[39m\u001b[39mu\u001b[39m\u001b[39m'\u001b[39m: u_val, \u001b[39m'\u001b[39m\u001b[39mv\u001b[39m\u001b[39m'\u001b[39m: np\u001b[39m.\u001b[39mzeros((num_nodes, \u001b[39m1\u001b[39m)), \u001b[39m'\u001b[39m\u001b[39mw\u001b[39m\u001b[39m'\u001b[39m: w_vel,\n\u001b[1;32m     23\u001b[0m     \u001b[39m'\u001b[39m\u001b[39mp\u001b[39m\u001b[39m'\u001b[39m: np\u001b[39m.\u001b[39mzeros((num_nodes, \u001b[39m1\u001b[39m)), \u001b[39m'\u001b[39m\u001b[39mq\u001b[39m\u001b[39m'\u001b[39m: np\u001b[39m.\u001b[39mzeros((num_nodes, \u001b[39m1\u001b[39m)), \u001b[39m'\u001b[39m\u001b[39mr\u001b[39m\u001b[39m'\u001b[39m: np\u001b[39m.\u001b[39mzeros((num_nodes, \u001b[39m1\u001b[39m)),\n\u001b[0;32m   (...)\u001b[0m\n\u001b[1;32m     26\u001b[0m     \u001b[39m'\u001b[39m\u001b[39mphiw\u001b[39m\u001b[39m'\u001b[39m: np\u001b[39m.\u001b[39mzeros((num_nodes, \u001b[39m1\u001b[39m)), \u001b[39m'\u001b[39m\u001b[39mgamma\u001b[39m\u001b[39m'\u001b[39m: np\u001b[39m.\u001b[39mzeros((num_nodes, \u001b[39m1\u001b[39m)),\u001b[39m'\u001b[39m\u001b[39mpsiw\u001b[39m\u001b[39m'\u001b[39m: np\u001b[39m.\u001b[39mzeros((num_nodes, \u001b[39m1\u001b[39m)),\n\u001b[1;32m     27\u001b[0m }\n\u001b[1;32m     29\u001b[0m \u001b[39m####################################################################\u001b[39;00m\n\u001b[1;32m     30\u001b[0m \u001b[39m# 2. add VLM meshes\u001b[39;00m\n\u001b[1;32m     31\u001b[0m \u001b[39m####################################################################\u001b[39;00m\n\u001b[1;32m     32\u001b[0m \u001b[39m# single lifting surface \u001b[39;00m\n\u001b[1;32m     33\u001b[0m \u001b[39m# (nx: number of points in streamwise direction; ny:number of points in spanwise direction)\u001b[39;00m\n\u001b[0;32m---> 35\u001b[0m x_coords \u001b[39m=\u001b[39m np\u001b[39m.\u001b[39;49mloadtxt(\u001b[39m'\u001b[39;49m\u001b[39mvnv_meshes/byu_vortex_lattice/x_dynamic.txt\u001b[39;49m\u001b[39m'\u001b[39;49m)\n\u001b[1;32m     36\u001b[0m y_coords \u001b[39m=\u001b[39m np\u001b[39m.\u001b[39mloadtxt(\u001b[39m'\u001b[39m\u001b[39mvnv_meshes/byu_vortex_lattice/y_dynamic.txt\u001b[39m\u001b[39m'\u001b[39m)\n\u001b[1;32m     37\u001b[0m z_coords \u001b[39m=\u001b[39m np\u001b[39m.\u001b[39mloadtxt(\u001b[39m'\u001b[39m\u001b[39mvnv_meshes/byu_vortex_lattice/z_dynamic.txt\u001b[39m\u001b[39m'\u001b[39m)\n",
      "File \u001b[0;32m~/miniconda3/lib/python3.9/site-packages/numpy/lib/npyio.py:1356\u001b[0m, in \u001b[0;36mloadtxt\u001b[0;34m(fname, dtype, comments, delimiter, converters, skiprows, usecols, unpack, ndmin, encoding, max_rows, quotechar, like)\u001b[0m\n\u001b[1;32m   1353\u001b[0m \u001b[39mif\u001b[39;00m \u001b[39misinstance\u001b[39m(delimiter, \u001b[39mbytes\u001b[39m):\n\u001b[1;32m   1354\u001b[0m     delimiter \u001b[39m=\u001b[39m delimiter\u001b[39m.\u001b[39mdecode(\u001b[39m'\u001b[39m\u001b[39mlatin1\u001b[39m\u001b[39m'\u001b[39m)\n\u001b[0;32m-> 1356\u001b[0m arr \u001b[39m=\u001b[39m _read(fname, dtype\u001b[39m=\u001b[39;49mdtype, comment\u001b[39m=\u001b[39;49mcomment, delimiter\u001b[39m=\u001b[39;49mdelimiter,\n\u001b[1;32m   1357\u001b[0m             converters\u001b[39m=\u001b[39;49mconverters, skiplines\u001b[39m=\u001b[39;49mskiprows, usecols\u001b[39m=\u001b[39;49musecols,\n\u001b[1;32m   1358\u001b[0m             unpack\u001b[39m=\u001b[39;49munpack, ndmin\u001b[39m=\u001b[39;49mndmin, encoding\u001b[39m=\u001b[39;49mencoding,\n\u001b[1;32m   1359\u001b[0m             max_rows\u001b[39m=\u001b[39;49mmax_rows, quote\u001b[39m=\u001b[39;49mquotechar)\n\u001b[1;32m   1361\u001b[0m \u001b[39mreturn\u001b[39;00m arr\n",
      "File \u001b[0;32m~/miniconda3/lib/python3.9/site-packages/numpy/lib/npyio.py:975\u001b[0m, in \u001b[0;36m_read\u001b[0;34m(fname, delimiter, comment, quote, imaginary_unit, usecols, skiplines, max_rows, converters, ndmin, unpack, dtype, encoding)\u001b[0m\n\u001b[1;32m    973\u001b[0m     fname \u001b[39m=\u001b[39m os\u001b[39m.\u001b[39mfspath(fname)\n\u001b[1;32m    974\u001b[0m \u001b[39mif\u001b[39;00m \u001b[39misinstance\u001b[39m(fname, \u001b[39mstr\u001b[39m):\n\u001b[0;32m--> 975\u001b[0m     fh \u001b[39m=\u001b[39m np\u001b[39m.\u001b[39;49mlib\u001b[39m.\u001b[39;49m_datasource\u001b[39m.\u001b[39;49mopen(fname, \u001b[39m'\u001b[39;49m\u001b[39mrt\u001b[39;49m\u001b[39m'\u001b[39;49m, encoding\u001b[39m=\u001b[39;49mencoding)\n\u001b[1;32m    976\u001b[0m     \u001b[39mif\u001b[39;00m encoding \u001b[39mis\u001b[39;00m \u001b[39mNone\u001b[39;00m:\n\u001b[1;32m    977\u001b[0m         encoding \u001b[39m=\u001b[39m \u001b[39mgetattr\u001b[39m(fh, \u001b[39m'\u001b[39m\u001b[39mencoding\u001b[39m\u001b[39m'\u001b[39m, \u001b[39m'\u001b[39m\u001b[39mlatin1\u001b[39m\u001b[39m'\u001b[39m)\n",
      "File \u001b[0;32m~/miniconda3/lib/python3.9/site-packages/numpy/lib/_datasource.py:193\u001b[0m, in \u001b[0;36mopen\u001b[0;34m(path, mode, destpath, encoding, newline)\u001b[0m\n\u001b[1;32m    156\u001b[0m \u001b[39m\u001b[39m\u001b[39m\"\"\"\u001b[39;00m\n\u001b[1;32m    157\u001b[0m \u001b[39mOpen `path` with `mode` and return the file object.\u001b[39;00m\n\u001b[1;32m    158\u001b[0m \n\u001b[0;32m   (...)\u001b[0m\n\u001b[1;32m    189\u001b[0m \n\u001b[1;32m    190\u001b[0m \u001b[39m\"\"\"\u001b[39;00m\n\u001b[1;32m    192\u001b[0m ds \u001b[39m=\u001b[39m DataSource(destpath)\n\u001b[0;32m--> 193\u001b[0m \u001b[39mreturn\u001b[39;00m ds\u001b[39m.\u001b[39;49mopen(path, mode, encoding\u001b[39m=\u001b[39;49mencoding, newline\u001b[39m=\u001b[39;49mnewline)\n",
      "File \u001b[0;32m~/miniconda3/lib/python3.9/site-packages/numpy/lib/_datasource.py:533\u001b[0m, in \u001b[0;36mDataSource.open\u001b[0;34m(self, path, mode, encoding, newline)\u001b[0m\n\u001b[1;32m    530\u001b[0m     \u001b[39mreturn\u001b[39;00m _file_openers[ext](found, mode\u001b[39m=\u001b[39mmode,\n\u001b[1;32m    531\u001b[0m                               encoding\u001b[39m=\u001b[39mencoding, newline\u001b[39m=\u001b[39mnewline)\n\u001b[1;32m    532\u001b[0m \u001b[39melse\u001b[39;00m:\n\u001b[0;32m--> 533\u001b[0m     \u001b[39mraise\u001b[39;00m \u001b[39mFileNotFoundError\u001b[39;00m(\u001b[39mf\u001b[39m\u001b[39m\"\u001b[39m\u001b[39m{\u001b[39;00mpath\u001b[39m}\u001b[39;00m\u001b[39m not found.\u001b[39m\u001b[39m\"\u001b[39m)\n",
      "\u001b[0;31mFileNotFoundError\u001b[0m: vnv_meshes/byu_vortex_lattice/x_dynamic.txt not found."
     ]
    }
   ],
   "source": [
    "def ex8_generate_model():\n",
    "    fluid_problem = FluidProblem(solver_option='VLM', problem_type='prescribed_wake')\n",
    "\n",
    "    model_1 = csdl.Model()\n",
    "    ####################################################################\n",
    "    # 1. add aircraft states\n",
    "    ####################################################################\n",
    "    num_nodes = 99;  nt = num_nodes\n",
    "    n_period = 4\n",
    "    omg=1\n",
    "    h=0.1\n",
    "    alpha = - np.deg2rad(5)\n",
    "\n",
    "    t_vec = np.linspace(0, n_period*np.pi*2, num_nodes)\n",
    "\n",
    "    u_val = (np.ones(num_nodes) * np.cos(alpha)).reshape((num_nodes,1))\n",
    "    w_vel = np.ones((num_nodes,1)) * np.sin(alpha) - h * np.cos(omg*t_vec).reshape((num_nodes,1))\n",
    "\n",
    "    alpha_equ = np.arctan2(w_vel, u_val)\n",
    "\n",
    "    states_dict = {\n",
    "        'u': u_val, 'v': np.zeros((num_nodes, 1)), 'w': w_vel,\n",
    "        'p': np.zeros((num_nodes, 1)), 'q': np.zeros((num_nodes, 1)), 'r': np.zeros((num_nodes, 1)),\n",
    "        'theta': alpha_equ, 'psi': np.zeros((num_nodes, 1)),\n",
    "        'x': np.zeros((num_nodes, 1)), 'y': np.zeros((num_nodes, 1)), 'z': np.zeros((num_nodes, 1)),\n",
    "        'phiw': np.zeros((num_nodes, 1)), 'gamma': np.zeros((num_nodes, 1)),'psiw': np.zeros((num_nodes, 1)),\n",
    "    }\n",
    "\n",
    "    ####################################################################\n",
    "    # 2. add VLM meshes\n",
    "    ####################################################################\n",
    "    # single lifting surface \n",
    "    # (nx: number of points in streamwise direction; ny:number of points in spanwise direction)\n",
    "\n",
    "    x_coords = np.loadtxt('vnv_meshes/byu_vortex_lattice/x_dynamic.txt')\n",
    "    y_coords = np.loadtxt('vnv_meshes/byu_vortex_lattice/y_dynamic.txt')\n",
    "    z_coords = np.loadtxt('vnv_meshes/byu_vortex_lattice/z_dynamic.txt')\n",
    "    mesh = np.stack((x_coords, y_coords, z_coords), axis=-1)\n",
    "\n",
    "    nx = x_coords.shape[0]; ny = x_coords.shape[1]\n",
    "\n",
    "    surface_names = ['wing']\n",
    "    surface_shapes = [(num_nodes, nx, ny, 3)]\n",
    "\n",
    "    \n",
    "\n",
    "\n",
    "    surface_properties_dict = {'wing':(nx,ny,3)}\n",
    "\n",
    "    # mesh_val = generate_simple_mesh(nx, ny, num_nodes)\n",
    "    mesh_val = np.zeros((num_nodes, nx, ny, 3))\n",
    "    z_offset = h*sin(omg*t_vec)\n",
    "\n",
    "    for i in range(num_nodes):\n",
    "        mesh_val[i, :, :, :] = mesh\n",
    "        mesh_val[i, :, :, 0] = mesh.copy()[:, :, 0] \n",
    "        mesh_val[i, :, :, 1] = mesh.copy()[:, :, 1] \n",
    "        mesh_val[i, :, :, 2] += z_offset[i]\n",
    "\n",
    "    h_stepsize = t_vec[1] \n",
    "\n",
    "    ####################################################################\n",
    "    # 3. add VAST solver\n",
    "    ####################################################################\n",
    "    if fluid_problem.solver_option == 'VLM' and fluid_problem.problem_type == 'fixed_wake':\n",
    "        eval_pts_shapes = [(num_nodes, x[1] - 1, x[2] - 1, 3) for x in surface_shapes]\n",
    "        wing = model_1.create_input('wing', val=np.einsum('i,jkl->ijkl', np.ones((num_nodes)), mesh))\n",
    "        submodel = VLMSolverModel(\n",
    "            surface_names=surface_names,\n",
    "            surface_shapes=surface_shapes,\n",
    "            num_nodes=num_nodes,\n",
    "            eval_pts_shapes=eval_pts_shapes,\n",
    "            AcStates='dummy',\n",
    "        )\n",
    "        model_1.add(submodel, 'VLMSolverModel')\n",
    "        sim = Simulator(model_1)\n",
    "    elif fluid_problem.solver_option == 'VLM' and fluid_problem.problem_type == 'prescribed_wake':\n",
    "        sim = Simulator(UVLMSolver(num_times=nt,h_stepsize=h_stepsize,states_dict=states_dict,\n",
    "                                        surface_properties_dict=surface_properties_dict,mesh_val=mesh_val), mode='rev')\n",
    "    # wing_C_L_OAS = np.array([0.4426841725811703]).reshape((num_nodes, 1))\n",
    "    # wing_C_D_i_OAS = np.array([0.005878842561184834]).reshape((num_nodes, 1))\n",
    "    \n",
    "    ####################################################################\n",
    "    profiler.enable()\n",
    "    # rep = csdl.GraphRepresentation(model_1)\n",
    "    profiler.disable()\n",
    "    profiler.dump_stats('output_1')\n",
    "    #  # add simulator\n",
    "    return sim\n",
    "\n",
    "sim = ex8_generate_model()\n",
    "\n",
    "\n",
    "sim.run()"
   ]
  },
  {
   "attachments": {},
   "cell_type": "markdown",
   "metadata": {},
   "source": [
    "# Fixed-wake rectangular wing simulation"
   ]
  },
  {
   "attachments": {},
   "cell_type": "markdown",
   "metadata": {},
   "source": [
    "## 3. Visualizing the mesh"
   ]
  },
  {
   "cell_type": "code",
   "execution_count": 7,
   "metadata": {},
   "outputs": [
    {
     "name": "stderr",
     "output_type": "stream",
     "text": [
      "UserWarning: Failed to use notebook backend: \n",
      "\n",
      "No module named 'trame'\n",
      "\n",
      "Falling back to a static output.\n"
     ]
    },
    {
     "data": {
      "image/png": "[encoded data removed]",
      "text/plain": [
       "<PIL.Image.Image image mode=RGB size=1024x768>"
      ]
     },
     "metadata": {},
     "output_type": "display_data"
    }
   ],
   "source": [
    "import pyvista as pv\n",
    "\n",
    "mesh = sim['wing'].reshape((3,11,3))\n",
    "\n",
    "# Create and plot structured grid\n",
    "grid = pv.StructuredGrid(mesh[:,:,0], mesh[:,:,1], mesh[:,:,2])\n",
    "\n",
    "grid.plot(show_edges=True, line_width=3, cpos=\"xy\")\n"
   ]
  },
  {
   "cell_type": "code",
   "execution_count": 11,
   "metadata": {},
   "outputs": [
    {
     "name": "stdout",
     "output_type": "stream",
     "text": [
      "the lift coefficient is:  [[0.44526274]]\n",
      "the induced drag coefficient is:  [[0.00594827]]\n"
     ]
    }
   ],
   "source": [
    "print('the lift coefficient is: ', sim['wing_C_L'])\n",
    "print('the induced drag coefficient is: ', sim['wing_C_D_i'])"
   ]
  },
  {
   "cell_type": "code",
   "execution_count": null,
   "metadata": {},
   "outputs": [],
   "source": []
  }
 ],
 "metadata": {
  "kernelspec": {
   "display_name": "Python 3.9.13 64-bit",
   "language": "python",
   "name": "python3"
  },
  "language_info": {
   "codemirror_mode": {
    "name": "ipython",
    "version": 3
   },
   "file_extension": ".py",
   "mimetype": "text/x-python",
   "name": "python",
   "nbconvert_exporter": "python",
   "pygments_lexer": "ipython3",
   "version": "3.9.16"
  },
  "orig_nbformat": 4,
  "vscode": {
   "interpreter": {
    "hash": "aee8b7b246df8f9039afb4144a1f6fd8d2ca17a180786b69acc140d282b71a49"
   }
  }
 },
 "nbformat": 4,
 "nbformat_minor": 2
}
