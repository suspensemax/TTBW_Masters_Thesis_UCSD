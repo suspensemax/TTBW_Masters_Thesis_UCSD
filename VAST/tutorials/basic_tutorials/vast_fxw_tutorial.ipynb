{
 "cells": [
  {
   "attachments": {},
   "cell_type": "markdown",
   "metadata": {},
   "source": [
    "# Fixed-wake rectangular wing simulation"
   ]
  },
  {
   "attachments": {},
   "cell_type": "markdown",
   "metadata": {},
   "source": [
    "## 1. import required packages"
   ]
  },
  {
   "cell_type": "code",
   "execution_count": 1,
   "metadata": {},
   "outputs": [],
   "source": [
    "import csdl\n",
    "import numpy as np\n",
    "from VAST.core.fluid_problem import FluidProblem\n",
    "from VAST.utils.generate_mesh import *\n",
    "from VAST.core.submodels.input_submodels.create_input_model import CreateACSatesModel\n",
    "from VAST.core.vlm_llt.vlm_solver import VLMSolverModel\n",
    "from python_csdl_backend import Simulator"
   ]
  },
  {
   "cell_type": "code",
   "execution_count": 2,
   "metadata": {},
   "outputs": [
    {
     "name": "stdout",
     "output_type": "stream",
     "text": [
      "\n",
      "generating: DERIVATIVESy-->gamma_b,MTX,b\n",
      "y--> (2/2) |........................................|\n",
      "nonlinear solver: newton solver converged in 1 iterations.\n"
     ]
    },
    {
     "name": "stderr",
     "output_type": "stream",
     "text": [
      "UserWarning: Model  of type CreateACSatesModel only registers inputs for the main model.\n",
      "UserWarning: In Model of type <class 'VAST.core.submodels.implicit_submodels.solve_group.SolveMatrix'>, Model named prepossing_before_Solve is not a subclass of Model. This is likely due to defining a model inline. It is recommended to define a new subclass when defining a submodel to maximiize code reuse.\n",
      "UserWarning: In Model of type <class 'VAST.core.submodels.output_submodels.vlm_post_processing.eval_pts_velocities_mls.EvalPtsVel'>, Model named eval_pts_total_vel is not a subclass of Model. This is likely due to defining a model inline. It is recommended to define a new subclass when defining a submodel to maximiize code reuse.\n",
      "UserWarning: Changing the sparsity structure of a csc_matrix is expensive. lil_matrix is more efficient.\n"
     ]
    }
   ],
   "source": [
    "def ex1_generate_model_vlm_fixed_wake(num_nodes,nx, ny):\n",
    "    fluid_problem = FluidProblem(solver_option='VLM', problem_type='fixed_wake')\n",
    "\n",
    "    model_1 = csdl.Model()\n",
    "    ####################################################################\n",
    "    # 1. add aircraft states\n",
    "    ####################################################################\n",
    "    v_inf = np.ones((num_nodes,1))*248.136\n",
    "    theta = np.deg2rad(np.ones((num_nodes,1))*5)  # pitch angles\n",
    "\n",
    "    submodel = CreateACSatesModel(v_inf=v_inf, theta=theta, num_nodes=num_nodes)\n",
    "    model_1.add(submodel, 'InputsModule')\n",
    "    ####################################################################\n",
    "    # 2. add VLM meshes\n",
    "    ####################################################################\n",
    "    # single lifting surface \n",
    "    # (nx: number of points in streamwise direction; ny:number of points in spanwise direction)\n",
    "    surface_names = ['wing']\n",
    "    surface_shapes = [(num_nodes, nx, ny, 3)]\n",
    "    mesh_dict = {\n",
    "        \"num_y\": ny, \"num_x\": nx, \"wing_type\": \"rect\", \"symmetry\": False, \"span\": 10.0,\n",
    "        \"chord\": 1, \"span_cos_sppacing\": 1.0, \"chord_cos_sacing\": 1.0,\n",
    "    }\n",
    "    # Generate mesh of a rectangular wing\n",
    "    mesh = generate_mesh(mesh_dict) \n",
    "    wing = model_1.create_input('wing', val=np.einsum('i,jkl->ijkl', np.ones((num_nodes)), mesh))\n",
    "\n",
    "    ####################################################################\n",
    "    # 3. add VAST solver\n",
    "    ####################################################################\n",
    "    if fluid_problem.solver_option == 'VLM':\n",
    "        eval_pts_shapes = [(num_nodes, x[1] - 1, x[2] - 1, 3) for x in surface_shapes]\n",
    "        submodel = VLMSolverModel(\n",
    "            surface_names=surface_names,\n",
    "            surface_shapes=surface_shapes,\n",
    "            num_nodes=num_nodes,\n",
    "            eval_pts_shapes=eval_pts_shapes,\n",
    "        )\n",
    "    # wing_C_L_OAS = np.array([0.4426841725811703]).reshape((num_nodes, 1))\n",
    "    # wing_C_D_i_OAS = np.array([0.005878842561184834]).reshape((num_nodes, 1))\n",
    "    model_1.add(submodel, 'VLMSolverModel')\n",
    "    ####################################################################\n",
    "    \n",
    "    sim = Simulator(model_1) # add simulator\n",
    "    return sim\n",
    "\n",
    "sim = ex1_generate_model_vlm_fixed_wake(num_nodes=1,nx=3, ny=11)\n",
    "sim.run()"
   ]
  },
  {
   "attachments": {},
   "cell_type": "markdown",
   "metadata": {},
   "source": [
    "## 3. Visualizing the mesh"
   ]
  },
  {
   "cell_type": "code",
   "execution_count": 7,
   "metadata": {},
   "outputs": [
    {
     "name": "stderr",
     "output_type": "stream",
     "text": [
      "UserWarning: Failed to use notebook backend: \n",
      "\n",
      "No module named 'trame'\n",
      "\n",
      "Falling back to a static output.\n"
     ]
    },
    {
     "data": {
      "image/png": "[encoded data removed]",
      "text/plain": [
       "<PIL.Image.Image image mode=RGB size=1024x768>"
      ]
     },
     "metadata": {},
     "output_type": "display_data"
    }
   ],
   "source": [
    "import pyvista as pv\n",
    "\n",
    "mesh = sim['wing'].reshape((3,11,3))\n",
    "\n",
    "# Create and plot structured grid\n",
    "grid = pv.StructuredGrid(mesh[:,:,0], mesh[:,:,1], mesh[:,:,2])\n",
    "\n",
    "grid.plot(show_edges=True, line_width=3, cpos=\"xy\")\n"
   ]
  },
  {
   "cell_type": "code",
   "execution_count": 11,
   "metadata": {},
   "outputs": [
    {
     "name": "stdout",
     "output_type": "stream",
     "text": [
      "the lift coefficient is:  [[0.44526274]]\n",
      "the induced drag coefficient is:  [[0.00594827]]\n"
     ]
    }
   ],
   "source": [
    "print('the lift coefficient is: ', sim['wing_C_L'])\n",
    "print('the induced drag coefficient is: ', sim['wing_C_D_i'])"
   ]
  },
  {
   "cell_type": "code",
   "execution_count": null,
   "metadata": {},
   "outputs": [],
   "source": []
  }
 ],
 "metadata": {
  "kernelspec": {
   "display_name": "Python 3.9.13 64-bit",
   "language": "python",
   "name": "python3"
  },
  "language_info": {
   "codemirror_mode": {
    "name": "ipython",
    "version": 3
   },
   "file_extension": ".py",
   "mimetype": "text/x-python",
   "name": "python",
   "nbconvert_exporter": "python",
   "pygments_lexer": "ipython3",
   "version": "3.9.16"
  },
  "orig_nbformat": 4,
  "vscode": {
   "interpreter": {
    "hash": "aee8b7b246df8f9039afb4144a1f6fd8d2ca17a180786b69acc140d282b71a49"
   }
  }
 },
 "nbformat": 4,
 "nbformat_minor": 2
}
